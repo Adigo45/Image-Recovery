{
 "cells": [
  {
   "cell_type": "code",
   "execution_count": 16,
   "id": "0812b476",
   "metadata": {},
   "outputs": [],
   "source": [
    "import os\n",
    "import numpy as np\n",
    "import torch\n",
    "import torchvision as tv\n",
    "import torch.utils.data as td\n",
    "import torch.nn.functional as F\n",
    "from PIL import Image\n",
    "import matplotlib.pyplot as plt\n",
    "from torch.utils.data import DataLoader\n",
    "import torch.nn as nn\n",
    "import torch.optim as optim"
   ]
  },
  {
   "cell_type": "code",
   "execution_count": 23,
   "id": "cb90a661",
   "metadata": {},
   "outputs": [
    {
     "ename": "NameError",
     "evalue": "name 'BSDS300' is not defined",
     "output_type": "error",
     "traceback": [
      "\u001b[1;31m---------------------------------------------------------------------------\u001b[0m",
      "\u001b[1;31mNameError\u001b[0m                                 Traceback (most recent call last)",
      "Cell \u001b[1;32mIn[23], line 1\u001b[0m\n\u001b[1;32m----> 1\u001b[0m dataset_root_dir \u001b[38;5;241m=\u001b[39m BSDS300\u001b[38;5;241m/\u001b[39mimages\n",
      "\u001b[1;31mNameError\u001b[0m: name 'BSDS300' is not defined"
     ]
    }
   ],
   "source": [
    "dataset_root_dir = BSDS300/images"
   ]
  },
  {
   "cell_type": "code",
   "execution_count": 20,
   "id": "9fb41e8d",
   "metadata": {},
   "outputs": [
    {
     "ename": "FileNotFoundError",
     "evalue": "[WinError 3] The system cannot find the path specified: 'BSDS300/images'",
     "output_type": "error",
     "traceback": [
      "\u001b[1;31m---------------------------------------------------------------------------\u001b[0m",
      "\u001b[1;31mFileNotFoundError\u001b[0m                         Traceback (most recent call last)",
      "Cell \u001b[1;32mIn[20], line 1\u001b[0m\n\u001b[1;32m----> 1\u001b[0m os\u001b[38;5;241m.\u001b[39mlistdir(dataset_root_dir)\n",
      "\u001b[1;31mFileNotFoundError\u001b[0m: [WinError 3] The system cannot find the path specified: 'BSDS300/images'"
     ]
    }
   ],
   "source": [
    "os.listdir(dataset_root_dir)"
   ]
  },
  {
   "cell_type": "code",
   "execution_count": null,
   "id": "8f5ec210",
   "metadata": {},
   "outputs": [],
   "source": []
  }
 ],
 "metadata": {
  "kernelspec": {
   "display_name": "Python 3 (ipykernel)",
   "language": "python",
   "name": "python3"
  },
  "language_info": {
   "codemirror_mode": {
    "name": "ipython",
    "version": 3
   },
   "file_extension": ".py",
   "mimetype": "text/x-python",
   "name": "python",
   "nbconvert_exporter": "python",
   "pygments_lexer": "ipython3",
   "version": "3.11.3"
  }
 },
 "nbformat": 4,
 "nbformat_minor": 5
}
